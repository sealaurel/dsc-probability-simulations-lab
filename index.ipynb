{
 "cells": [
  {
   "cell_type": "markdown",
   "metadata": {},
   "source": [
    "# Simulations with Conditional and Total Probability - Lab\n",
    "\n",
    "\n",
    "## Introduction\n",
    "In this lab, we shall run simulations for simple total probability problems. We shall solve these problems by hand and also perform random sampling from a defined probability distribution repeatedly to see if our calculated results match the results of random simulations. \n",
    "\n",
    "## Objectives\n",
    "You will be able to:\n",
    "* Use knowledge of conditional probabilities, total probabilities, and the product rule to run random simulations using numpy\n",
    "\n",
    "## Exercise 1\n",
    "### Part 1\n",
    "\n",
    "Suppose you have two bags of marbles. The first bag contains 6 white marbles and 4 black marbles. The second bag contains 3 white marbles and 7 black marbles. Now suppose you put the two bags in a box. Now if you close your eyes, grab a bag from the box, and then grab a marble from the bag, **what is the probability that it is black**? "
   ]
  },
  {
   "cell_type": "code",
   "execution_count": 2,
   "metadata": {
    "ExecuteTime": {
     "end_time": "2021-03-27T19:56:56.674360Z",
     "start_time": "2021-03-27T19:56:56.658365Z"
    }
   },
   "outputs": [
    {
     "data": {
      "text/plain": [
       "0.55"
      ]
     },
     "execution_count": 2,
     "metadata": {},
     "output_type": "execute_result"
    }
   ],
   "source": [
    "# Your answer here\n",
    "# p = p_cond(black in bag 1)*p(bag1)+p(black in bag2)*p(bag2)\n",
    "p = (4/10 + 7/10)/2\n",
    "p"
   ]
  },
  {
   "cell_type": "markdown",
   "metadata": {},
   "source": [
    "### Part 2\n",
    "Run a simple simulation to estimate the probability of drawing a marble of a particular color. Run the code and verify that it agrees with your computation done earlier.\n",
    "\n",
    "#### Perform following tasks:\n",
    "\n",
    "* Create dictionaries for bag1 and bag2 holding marble color and probability values:\n",
    "\n",
    "    * **bag1 = {'marbles' : np.array([\"color1\", \"color2\"]), 'probs' : np.array([P(color1), P(color2)])}**\n",
    "    \n",
    "* Create a dictionary for the box holding the bags and their probability values: \n",
    "\n",
    "    * **box  = {'bags' : np.array([bag1, bag2]), 'probs' : np.array([P(bag1),P(bag2)])}**\n",
    "    \n",
    "* Show the content of your dictionaries"
   ]
  },
  {
   "cell_type": "code",
   "execution_count": 6,
   "metadata": {
    "ExecuteTime": {
     "end_time": "2021-03-27T20:03:50.735750Z",
     "start_time": "2021-03-27T20:03:50.714754Z"
    }
   },
   "outputs": [
    {
     "data": {
      "text/plain": [
       "({'marbles': array(['black', 'white'], dtype='<U5'),\n",
       "  'probs': array([0.4, 0.6])},\n",
       " {'marbles': array(['black', 'white'], dtype='<U5'),\n",
       "  'probs': array([0.7, 0.3])},\n",
       " {'bags': array([{'marbles': array(['black', 'white'], dtype='<U5'), 'probs': array([0.4, 0.6])},\n",
       "         {'marbles': array(['black', 'white'], dtype='<U5'), 'probs': array([0.7, 0.3])}],\n",
       "        dtype=object),\n",
       "  'probs': array([0.5, 0.5])})"
      ]
     },
     "execution_count": 6,
     "metadata": {},
     "output_type": "execute_result"
    }
   ],
   "source": [
    "import numpy as np\n",
    "bag1 = {'marbles' : np.array([\"black\", \"white\"]), 'probs' : np.array([0.4, 0.6])}\n",
    "bag2 = {'marbles' : np.array([\"black\", \"white\"]), 'probs' : np.array([0.7, 0.3])}\n",
    "box  = {'bags' : np.array([bag1, bag2]), 'probs' : np.array([0.5,0.5])}\n",
    "\n",
    "bag1, bag2, box\n",
    "\n",
    "# ({'marbles': array(['black', 'white'], dtype='<U5'),\n",
    "#   'probs': array([0.4, 0.6])},\n",
    "\n",
    "#  {'marbles': array(['black', 'white'], dtype='<U5'),\n",
    "#   'probs': array([0.7, 0.3])},\n",
    "\n",
    "#  {'bags': array([{'marbles': array(['black', 'white'], dtype='<U5'), 'probs': array([0.4, 0.6])},\n",
    "#          {'marbles': array(['black', 'white'], dtype='<U5'), 'probs': array([0.7, 0.3])}],\n",
    "#         dtype=object), 'probs': array([0.5, 0.5])})"
   ]
  },
  {
   "cell_type": "markdown",
   "metadata": {},
   "source": [
    "Create a function `sample_marble(box)` that randomly chooses a bag from the box and then randomly chooses a marble from the bag "
   ]
  },
  {
   "cell_type": "code",
   "execution_count": 13,
   "metadata": {
    "ExecuteTime": {
     "end_time": "2021-03-27T20:04:28.159189Z",
     "start_time": "2021-03-27T20:04:28.146186Z"
    }
   },
   "outputs": [
    {
     "data": {
      "text/plain": [
       "'black'"
      ]
     },
     "execution_count": 13,
     "metadata": {},
     "output_type": "execute_result"
    }
   ],
   "source": [
    "def sample_marble(box):\n",
    "    # randomly choose a bag \n",
    "    bag = np.random.choice(box['bags'], p=box['probs'])\n",
    "    # randomly choose a marble \n",
    "    \n",
    "    return np.random.choice(bag['marbles'], p=bag['probs'])\n",
    "\n",
    "sample_marble(box)\n",
    "# 'black' OR 'white'"
   ]
  },
  {
   "cell_type": "markdown",
   "metadata": {},
   "source": [
    "Create another function `probability_of_colors(color, box, num_samples)` that gets a  given number of samples from `sample_marbles()` and computes the fraction of marbles of a desired color"
   ]
  },
  {
   "cell_type": "code",
   "execution_count": 16,
   "metadata": {
    "ExecuteTime": {
     "end_time": "2021-03-27T22:30:17.553540Z",
     "start_time": "2021-03-27T22:30:17.545549Z"
    }
   },
   "outputs": [],
   "source": [
    "def probability_of_color(color, box, num_samples=1000):\n",
    "    # get a bunch of marbles\n",
    "    marble_color_array = np.array([sample_marble(box) for i in range(num_samples)])\n",
    "    # compute fraction of marbles of desired color \n",
    "    return np.sum(marble_color_array == color) / num_samples"
   ]
  },
  {
   "cell_type": "markdown",
   "metadata": {},
   "source": [
    "Now let's run our function in line with our original problem, i.e. the probability of seeing a black marble by sampling form the box 100000 times. "
   ]
  },
  {
   "cell_type": "code",
   "execution_count": 18,
   "metadata": {
    "ExecuteTime": {
     "end_time": "2021-03-27T22:31:08.256934Z",
     "start_time": "2021-03-27T22:31:04.215508Z"
    }
   },
   "outputs": [
    {
     "data": {
      "text/plain": [
       "0.45145"
      ]
     },
     "execution_count": 18,
     "metadata": {},
     "output_type": "execute_result"
    }
   ],
   "source": [
    " probability_of_color(\"white\", box, num_samples=100000)\n",
    "\n",
    "\n",
    "# your answer should be very close to 0.55"
   ]
  },
  {
   "cell_type": "markdown",
   "metadata": {},
   "source": [
    "## Exercise 2\n",
    "\n",
    "\n",
    "Suppose now we add a third color of marble to the mix.  Bag 1 now contains 6 white marbles, 4 black marbles, and 5 gray marbles. Bag 2 now contains 3 white marbles, 7 black marbles, and 5 gray marbles.  \n",
    "\n",
    "**The probability of grabbing the first bag from the box is now TWICE the probability of grabbing the second bag.** \n",
    "\n",
    "What is the probability of drawing a gray marble from the bag according to law of total probabilities?  "
   ]
  },
  {
   "cell_type": "markdown",
   "metadata": {},
   "source": [
    "#### Copy and paste the code from the exercise above and modify it to estimate the probability that you just computed and check your work."
   ]
  },
  {
   "cell_type": "code",
   "execution_count": 23,
   "metadata": {
    "ExecuteTime": {
     "end_time": "2021-03-27T22:38:05.691800Z",
     "start_time": "2021-03-27T22:38:05.679297Z"
    }
   },
   "outputs": [
    {
     "data": {
      "text/plain": [
       "({'marbles': array(['black', 'white', 'gray'], dtype='<U5'),\n",
       "  'probs': array([0.27, 0.4 , 0.33])},\n",
       " {'marbles': array(['black', 'white', 'gray'], dtype='<U5'),\n",
       "  'probs': array([0.47, 0.2 , 0.33])},\n",
       " {'bags': array([{'marbles': array(['black', 'white', 'gray'], dtype='<U5'), 'probs': array([0.27, 0.4 , 0.33])},\n",
       "         {'marbles': array(['black', 'white', 'gray'], dtype='<U5'), 'probs': array([0.47, 0.2 , 0.33])}],\n",
       "        dtype=object),\n",
       "  'probs': array([0.67, 0.33])})"
      ]
     },
     "execution_count": 23,
     "metadata": {},
     "output_type": "execute_result"
    }
   ],
   "source": [
    "# Change above code here \n",
    "\n",
    "bag1 = {'marbles' : np.array([\"black\", \"white\", \"gray\"]), 'probs' : np.array([0.27, 0.4, 0.33])}\n",
    "bag2 = {'marbles' : np.array([\"black\", \"white\", \"gray\"]), 'probs' : np.array([0.47, 0.2, 0.33])}\n",
    "box  = {'bags' : np.array([bag1, bag2]), 'probs' : np.array([0.67,0.33])}\n",
    "\n",
    "bag1, bag2, box"
   ]
  },
  {
   "cell_type": "code",
   "execution_count": 24,
   "metadata": {
    "ExecuteTime": {
     "end_time": "2021-03-27T22:38:11.688014Z",
     "start_time": "2021-03-27T22:38:07.671591Z"
    }
   },
   "outputs": [
    {
     "data": {
      "text/plain": [
       "0.32815"
      ]
     },
     "execution_count": 24,
     "metadata": {},
     "output_type": "execute_result"
    }
   ],
   "source": [
    "probability_of_color(\"gray\", box, num_samples=100000)\n",
    "\n",
    "\n",
    "\n",
    "# Very close to 0.33"
   ]
  },
  {
   "cell_type": "markdown",
   "metadata": {},
   "source": [
    "## Summary \n",
    "\n",
    "In this lab, you looked at some more examples of simple problems using the law of total probability. You also ran some simulations to solve these problems using continuous random sampling. You learned that you get a result very close to the mathematical solution when using random sampling. This difference is due to randomness, and as your sample size grows you'll see that the difference becomes very small! For more complex problems with larger datasets, having an understanding of the underlying probabilities can help you solve a lot of optimization problems as you'll learn later."
   ]
  }
 ],
 "metadata": {
  "hide_input": false,
  "kernelspec": {
   "display_name": "Python 3",
   "language": "python",
   "name": "python3"
  },
  "language_info": {
   "codemirror_mode": {
    "name": "ipython",
    "version": 3
   },
   "file_extension": ".py",
   "mimetype": "text/x-python",
   "name": "python",
   "nbconvert_exporter": "python",
   "pygments_lexer": "ipython3",
   "version": "3.8.5"
  },
  "toc": {
   "base_numbering": 1,
   "nav_menu": {},
   "number_sections": true,
   "sideBar": true,
   "skip_h1_title": false,
   "title_cell": "Table of Contents",
   "title_sidebar": "Contents",
   "toc_cell": false,
   "toc_position": {},
   "toc_section_display": true,
   "toc_window_display": false
  },
  "varInspector": {
   "cols": {
    "lenName": 16,
    "lenType": 16,
    "lenVar": 40
   },
   "kernels_config": {
    "python": {
     "delete_cmd_postfix": "",
     "delete_cmd_prefix": "del ",
     "library": "var_list.py",
     "varRefreshCmd": "print(var_dic_list())"
    },
    "r": {
     "delete_cmd_postfix": ") ",
     "delete_cmd_prefix": "rm(",
     "library": "var_list.r",
     "varRefreshCmd": "cat(var_dic_list()) "
    }
   },
   "types_to_exclude": [
    "module",
    "function",
    "builtin_function_or_method",
    "instance",
    "_Feature"
   ],
   "window_display": false
  }
 },
 "nbformat": 4,
 "nbformat_minor": 2
}
